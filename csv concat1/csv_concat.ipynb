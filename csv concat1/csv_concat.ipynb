{
 "cells": [
  {
   "cell_type": "code",
   "execution_count": 1,
   "id": "b93ba378",
   "metadata": {},
   "outputs": [],
   "source": [
    "import pandas as pd\n",
    "import os"
   ]
  },
  {
   "cell_type": "code",
   "execution_count": 2,
   "id": "60e9f12d",
   "metadata": {},
   "outputs": [],
   "source": [
    "folder_path = 'my_path' # folder system path\n",
    "all_df = [] # emp list for dfs"
   ]
  },
  {
   "cell_type": "code",
   "execution_count": null,
   "id": "a17c76d0",
   "metadata": {},
   "outputs": [],
   "source": [
    "#Read all .csv files in the folder\n",
    "for filename in os.listdir(folder_path):\n",
    "    if filename.endswith('.csv'):\n",
    "        file_path = os.path.join(folder_path, filename)\n",
    "        print(file_path)\n",
    "        try:\n",
    "            df = pd.read_csv(file_path)\n",
    "        except:\n",
    "            print(f'Read Error: {file_path}')\n",
    "        all_df.append(df)\n"
   ]
  },
  {
   "cell_type": "code",
   "execution_count": null,
   "id": "f7e72afa",
   "metadata": {},
   "outputs": [],
   "source": [
    "# update to datatime\n",
    "for df in all_df:\n",
    "    df['trip_start_date'] = pd.to_datetime(df['trip_start_date'])\n",
    "    df['start_date'] = pd.to_datetime(df['start_date'])\n",
    "    df['end_date'] = pd.to_datetime(df['end_date'])\n",
    "    print(df.start_date.min(), df.start_date.max())\n",
    "\n",
    "# concat dfs and sort by \n",
    "concat_df = pd.concat(all_df, ignore_index=True).sort_values('start_date')"
   ]
  },
  {
   "cell_type": "code",
   "execution_count": null,
   "id": "ee541d66",
   "metadata": {},
   "outputs": [],
   "source": [
    "id = [i+1 for i in list(concat_df.index)] # create id start 1 to the end\n",
    "df_final = concat_df.insert(0,'id', id) # create a id field"
   ]
  },
  {
   "cell_type": "code",
   "execution_count": null,
   "id": "e9de7379",
   "metadata": {},
   "outputs": [],
   "source": [
    "# export the file as .csv\n",
    "df_final.to_csv(f'{folder_path}concat', index=False)"
   ]
  }
 ],
 "metadata": {
  "kernelspec": {
   "display_name": "base",
   "language": "python",
   "name": "python3"
  },
  "language_info": {
   "codemirror_mode": {
    "name": "ipython",
    "version": 3
   },
   "file_extension": ".py",
   "mimetype": "text/x-python",
   "name": "python",
   "nbconvert_exporter": "python",
   "pygments_lexer": "ipython3",
   "version": "3.12.4"
  }
 },
 "nbformat": 4,
 "nbformat_minor": 5
}
